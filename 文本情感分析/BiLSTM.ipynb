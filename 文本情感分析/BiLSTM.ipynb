{
 "cells": [
  {
   "cell_type": "code",
   "execution_count": null,
   "metadata": {
    "collapsed": true
   },
   "outputs": [],
   "source": [
    "from keras.models import Sequential\n",
    "from keras.optimizers import SGD\n",
    "from keras.layers import Dense, Dropout, Activation, Bidirectional, LSTM, GRU, RNN\n",
    "from sklearn.model_selection import StratifiedKFold\n",
    "from sklearn.metrics import classification_report\n",
    "from keras.callbacks import EarlyStopping, ModelCheckpoint, TensorBoard, CSVLogger\n",
    "import numpy as np\n",
    "import matplotlib.pyplot as plt"
   ]
  },
  {
   "cell_type": "markdown",
   "metadata": {},
   "source": [
    "### 文本情感识别模型；"
   ]
  },
  {
   "cell_type": "code",
   "execution_count": null,
   "metadata": {
    "collapsed": true
   },
   "outputs": [],
   "source": [
    "#模型输入为shape = (50, 100)的词向量；\n",
    "#数据类型为np.array\n",
    "\n",
    "#序贯式模型；\n",
    "model = Sequential()\n",
    "#调节的参数为units, 这里设置的是units = 128;\n",
    "model.add(Bidirectional(LSTM(units = 128, input_shape = (50, 100))))\n",
    "model.add(Dropout(0.5))\n",
    "model.add(Dense(256))\n",
    "model.add(Dense(3, activation = 'softmax'))\n",
    "\n",
    "#定义一个优化器；\n",
    "opt = SGD(lr = 0.001, momentum= 0.9)\n",
    "\n",
    "#训练提前停止，当损失值连续10轮没有下降；\n",
    "earlystoppping = EarlyStopping(monitor= 'loss', patience= 10, verbose= 1)\n",
    "\n",
    "#保存训练最佳模型；\n",
    "#best_checkpoint = str(5) + 'best.h5'\n",
    "#modelcheckpoint = ModelCheckpoint(best_checkpoint, monitor= 'val_acc', save_best_only= True, \n",
    "                                  #mode= 'max', verbose= 1)\n",
    "\n",
    "#记录训练中每轮的acc及loss，并写入csv中；\n",
    "#csv_path = str(5) + '.csv'\n",
    "#csv_log = CSVLogger(csv_path)\n",
    "\n",
    "#这里优化器选择的是'adam',使用默认参数；\n",
    "model.compile(loss = 'categorical_crossentropy', optimizer = 'adam', metrics= ['accuracy'])\n",
    "model.fit(train_X, train_Y, epochs = 100, validation_data = (test_X, test_Y), \n",
    "          batch_size = 128, verbose = 1,\n",
    "          callbacks= [earlystoppping])\n",
    "\n",
    "y_pre = model.predict(test_X, batch_size= 128)\n",
    "\n",
    "#保存模型；\n",
    "model.save(r'txt.h5')\n",
    "\n",
    "#输出测试集中的指标值，包括acc(需升级keras至最新版本才会有这一值), precision, recall, F1;\n",
    "#digits为精确到小数点后几位；\n",
    "print(classification_report(test_Y.argmax(axis= 1), y_pre.argmax(axis= 1), digits= 5))"
   ]
  },
  {
   "cell_type": "markdown",
   "metadata": {},
   "source": [
    "### 绘制训练过程中的损失值曲线；"
   ]
  },
  {
   "cell_type": "code",
   "execution_count": null,
   "metadata": {
    "collapsed": true
   },
   "outputs": [],
   "source": [
    "#绘制准确率的训练曲线同理，history为字典；\n",
    "plt.plot(history.history['loss'])\n",
    "\n",
    "plt.title('Train loss')\n",
    "plt.ylabel('Loss')\n",
    "plt.xlabel('Epoch')\n",
    "\n",
    "plt.legend(['Train', 'Test'])\n",
    "plt.show()"
   ]
  }
 ],
 "metadata": {
  "kernelspec": {
   "display_name": "Python 3",
   "language": "python",
   "name": "python3"
  },
  "language_info": {
   "codemirror_mode": {
    "name": "ipython",
    "version": 3
   },
   "file_extension": ".py",
   "mimetype": "text/x-python",
   "name": "python",
   "nbconvert_exporter": "python",
   "pygments_lexer": "ipython3",
   "version": "3.6.2"
  }
 },
 "nbformat": 4,
 "nbformat_minor": 2
}
