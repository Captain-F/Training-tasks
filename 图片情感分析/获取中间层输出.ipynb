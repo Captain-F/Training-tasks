{
 "cells": [
  {
   "cell_type": "code",
   "execution_count": 1,
   "metadata": {},
   "outputs": [
    {
     "name": "stderr",
     "output_type": "stream",
     "text": [
      "C:\\Users\\fantao\\Anaconda3\\lib\\site-packages\\h5py\\__init__.py:34: FutureWarning: Conversion of the second argument of issubdtype from `float` to `np.floating` is deprecated. In future, it will be treated as `np.float64 == np.dtype(float).type`.\n",
      "  from ._conv import register_converters as _register_converters\n",
      "Using TensorFlow backend.\n"
     ]
    }
   ],
   "source": [
    "from keras.models import load_model, Model\n",
    "import pickle"
   ]
  },
  {
   "cell_type": "code",
   "execution_count": 2,
   "metadata": {
    "collapsed": true
   },
   "outputs": [],
   "source": [
    "#读取；\n",
    "def load_data(path):\n",
    "    with open(path, 'rb')as f:\n",
    "        imgs = pickle.load(f)\n",
    "    return imgs\n",
    "\n",
    "#存储\n",
    "def save_data(data, path):\n",
    "    with open(path, 'wb')as f:\n",
    "        pickle.dump(data, f)"
   ]
  },
  {
   "cell_type": "code",
   "execution_count": 3,
   "metadata": {
    "collapsed": true
   },
   "outputs": [],
   "source": [
    "#加载保存的模型；\n",
    "#假设要获得融合层中的输出，那么做的第一步就是获得融合层的name；\n",
    "#可以利用model.summary()获得；\n",
    "#已知融合层的name为\"concatenate_5\";\n",
    "#获取concatenate_5层特征；\n",
    "\n",
    "#加载模型；\n",
    "model = load_model(r'17best.h5')"
   ]
  },
  {
   "cell_type": "code",
   "execution_count": 4,
   "metadata": {
    "collapsed": true
   },
   "outputs": [],
   "source": [
    "#获得融合层的输出；\n",
    "layer_name = 'concatenate_5'\n",
    "conca_layer =  Model(inputs= model.input, \n",
    "                     outputs= model.get_layer(layer_name).output)"
   ]
  },
  {
   "cell_type": "code",
   "execution_count": 6,
   "metadata": {
    "collapsed": true
   },
   "outputs": [],
   "source": [
    "train_X_txt = [i[0] for i in txt_img_train]\n",
    "train_X_img = [i[1] for i in txt_img_train]\n",
    "test_X_txt = [i[0] for i in txt_img_test]\n",
    "test_X_img = [i[1] for i in txt_img_test]"
   ]
  },
  {
   "cell_type": "code",
   "execution_count": 7,
   "metadata": {
    "collapsed": true
   },
   "outputs": [],
   "source": [
    "#如果你的模型输入只是单一的；\n",
    "#那么下面的代码可写成如下（例子）；\n",
    "# train_X = conca_layer.predict(train_X_txt, batch_size= 32)\n",
    "\n",
    "train_X = conca_layer.predict([train_X_txt, train_X_img], batch_size= 32)\n",
    "test_X = conca_layer.predict([test_X_txt, test_X_img], batch_size= 32)"
   ]
  }
 ],
 "metadata": {
  "kernelspec": {
   "display_name": "Python 3",
   "language": "python",
   "name": "python3"
  },
  "language_info": {
   "codemirror_mode": {
    "name": "ipython",
    "version": 3
   },
   "file_extension": ".py",
   "mimetype": "text/x-python",
   "name": "python",
   "nbconvert_exporter": "python",
   "pygments_lexer": "ipython3",
   "version": "3.6.2"
  }
 },
 "nbformat": 4,
 "nbformat_minor": 2
}
