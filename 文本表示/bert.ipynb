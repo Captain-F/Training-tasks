{
 "cells": [
  {
   "cell_type": "code",
   "execution_count": 6,
   "metadata": {
    "collapsed": true
   },
   "outputs": [],
   "source": [
    "import os\n",
    "import codecs\n",
    "from keras_bert import load_trained_model_from_checkpoint\n",
    "import numpy as np\n",
    "from keras_bert import Tokenizer\n",
    "import time\n",
    "import pandas as pd\n",
    "import pickle\n",
    "from keras.models import Sequential\n",
    "from keras.layers import Dense, Dropout, Activation, Bidirectional, LSTM, GRU, RNN\n",
    "from sklearn.model_selection import StratifiedKFold, train_test_split\n",
    "from sklearn.metrics import classification_report\n",
    "from keras.callbacks import EarlyStopping, ModelCheckpoint, TensorBoard\n",
    "from sklearn.model_selection import StratifiedKFold\n",
    "import numpy as np\n",
    "from sklearn.preprocessing import LabelBinarizer"
   ]
  },
  {
   "cell_type": "code",
   "execution_count": 2,
   "metadata": {
    "collapsed": true
   },
   "outputs": [],
   "source": [
    "#运行前需pip install keras-bert;\n",
    "#并下载bert中文预训练模型；\n",
    "#解压后可放置到与程序相同的文件路径中；\n",
    "\n",
    "#取[cls];\n",
    "\n",
    "def bert(texts):\n",
    "    #接受输入['', ''];\n",
    "    #加载模型；\n",
    "    \n",
    "    pretrained_path = 'chinese_L-12_H-768_A-12'\n",
    "    config_path = os.path.join(pretrained_path, 'bert_config.json')\n",
    "    checkpoint_path = os.path.join(pretrained_path, 'bert_model.ckpt')\n",
    "    vocab_path = os.path.join(pretrained_path, 'vocab.txt')\n",
    "    model = load_trained_model_from_checkpoint(config_path, checkpoint_path)\n",
    "    \n",
    "    #加载分词词典；\n",
    "    token_dict = {}\n",
    "    with codecs.open(vocab_path, 'r', 'utf8') as reader:\n",
    "        for line in reader:\n",
    "            token = line.strip()\n",
    "            token_dict[token] = len(token_dict)\n",
    "            \n",
    "    #抽取特征；\n",
    "    tokenizer = Tokenizer(token_dict)\n",
    "    \n",
    "    features = []\n",
    "    for text in texts:\n",
    "        e = time.time()\n",
    "        tokens = tokenizer.tokenize(text)\n",
    "        indices, segments = tokenizer.encode(first=text, max_len=512)\n",
    "        predicts = model.predict([np.array([indices]), np.array([segments])])[0]\n",
    "        feature = predicts[0]\n",
    "        s = time.time()\n",
    "        features.append(feature)\n",
    "        print(s-e)\n",
    "    return features\n",
    "\n",
    "def read_pickle(path):\n",
    "    with open(path, 'rb') as f:\n",
    "        data = pickle.load(f)\n",
    "    return data\n",
    "\n",
    "def save_pickle(data, path):\n",
    "    with open(path, 'wb') as f:\n",
    "        pickle.dump(data, f)"
   ]
  },
  {
   "cell_type": "code",
   "execution_count": 3,
   "metadata": {},
   "outputs": [
    {
     "name": "stdout",
     "output_type": "stream",
     "text": [
      "2.8926711082458496\n"
     ]
    }
   ],
   "source": [
    "txts = ['我爱南京..']\n",
    "faetures = bert(txts)"
   ]
  }
 ],
 "metadata": {
  "kernelspec": {
   "display_name": "Python 3",
   "language": "python",
   "name": "python3"
  },
  "language_info": {
   "codemirror_mode": {
    "name": "ipython",
    "version": 3
   },
   "file_extension": ".py",
   "mimetype": "text/x-python",
   "name": "python",
   "nbconvert_exporter": "python",
   "pygments_lexer": "ipython3",
   "version": "3.6.2"
  }
 },
 "nbformat": 4,
 "nbformat_minor": 2
}
